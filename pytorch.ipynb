{
  "nbformat": 4,
  "nbformat_minor": 0,
  "metadata": {
    "colab": {
      "provenance": [],
      "toc_visible": true
    },
    "kernelspec": {
      "name": "python3",
      "display_name": "Python 3"
    },
    "language_info": {
      "name": "python"
    }
  },
  "cells": [
    {
      "cell_type": "code",
      "execution_count": 1,
      "metadata": {
        "id": "NGRSZuv-zGoF"
      },
      "outputs": [],
      "source": [
        "#Tensor -> PyTorch is a library for processing tenosrs.A tensor is a number,vector,matrix, or any n-dimentional array.\n"
      ]
    },
    {
      "cell_type": "code",
      "source": [
        "#pytorch"
      ],
      "metadata": {
        "id": "XvBLmr1u09z5"
      },
      "execution_count": 2,
      "outputs": []
    },
    {
      "cell_type": "code",
      "source": [
        "import torch"
      ],
      "metadata": {
        "id": "Zu_bbasH1XII"
      },
      "execution_count": 3,
      "outputs": []
    },
    {
      "cell_type": "code",
      "source": [
        "t1 = torch.tensor(72.2)\n",
        "t1"
      ],
      "metadata": {
        "colab": {
          "base_uri": "https://localhost:8080/"
        },
        "id": "AaRtg9Uq1gIo",
        "outputId": "532e088e-ff32-4d11-a068-c35cf5fad13b"
      },
      "execution_count": 4,
      "outputs": [
        {
          "output_type": "execute_result",
          "data": {
            "text/plain": [
              "tensor(72.2000)"
            ]
          },
          "metadata": {},
          "execution_count": 4
        }
      ]
    },
    {
      "cell_type": "code",
      "source": [
        "t1.dtype"
      ],
      "metadata": {
        "colab": {
          "base_uri": "https://localhost:8080/"
        },
        "id": "X9P1bEVE1m9N",
        "outputId": "8ec5a1e7-6f67-440b-cafa-ffe95903f164"
      },
      "execution_count": 5,
      "outputs": [
        {
          "output_type": "execute_result",
          "data": {
            "text/plain": [
              "torch.float32"
            ]
          },
          "metadata": {},
          "execution_count": 5
        }
      ]
    },
    {
      "cell_type": "code",
      "source": [
        "t2 = torch.tensor([12,535,2,5,])\n",
        "t2"
      ],
      "metadata": {
        "colab": {
          "base_uri": "https://localhost:8080/"
        },
        "id": "UyCtY0P-1owx",
        "outputId": "c979fc75-2a99-46d9-dbff-11fe73671f8b"
      },
      "execution_count": 6,
      "outputs": [
        {
          "output_type": "execute_result",
          "data": {
            "text/plain": [
              "tensor([ 12, 535,   2,   5])"
            ]
          },
          "metadata": {},
          "execution_count": 6
        }
      ]
    },
    {
      "cell_type": "code",
      "source": [
        "t2.dtype"
      ],
      "metadata": {
        "colab": {
          "base_uri": "https://localhost:8080/"
        },
        "id": "WAULiVj02T6A",
        "outputId": "74bee30e-ce11-4cc6-8c5e-bbc02a0bd89d"
      },
      "execution_count": 7,
      "outputs": [
        {
          "output_type": "execute_result",
          "data": {
            "text/plain": [
              "torch.int64"
            ]
          },
          "metadata": {},
          "execution_count": 7
        }
      ]
    },
    {
      "cell_type": "code",
      "source": [
        "# Matrix\n",
        "\n",
        "t3 = torch.tensor([\n",
        "    [1,2,3],\n",
        "    [4,5,6],\n",
        "    [8,9,5]\n",
        "])\n",
        "t3"
      ],
      "metadata": {
        "colab": {
          "base_uri": "https://localhost:8080/"
        },
        "id": "6K5r5GGl2ooW",
        "outputId": "d84e7c2a-4bd2-4686-a557-537736030d24"
      },
      "execution_count": 8,
      "outputs": [
        {
          "output_type": "execute_result",
          "data": {
            "text/plain": [
              "tensor([[1, 2, 3],\n",
              "        [4, 5, 6],\n",
              "        [8, 9, 5]])"
            ]
          },
          "metadata": {},
          "execution_count": 8
        }
      ]
    },
    {
      "cell_type": "code",
      "source": [
        "t3.dtype"
      ],
      "metadata": {
        "colab": {
          "base_uri": "https://localhost:8080/"
        },
        "id": "Daui-Sua2-u9",
        "outputId": "0eb4bf10-133e-4bb8-ae62-40556d1705b1"
      },
      "execution_count": 9,
      "outputs": [
        {
          "output_type": "execute_result",
          "data": {
            "text/plain": [
              "torch.int64"
            ]
          },
          "metadata": {},
          "execution_count": 9
        }
      ]
    },
    {
      "cell_type": "code",
      "source": [
        "# -> Tensors can have any number of dimensions and different lengths along each dimension. We can inspect\n",
        "#  the length along each dimension using the .shape property of a tensor"
      ],
      "metadata": {
        "id": "OPdkdPaW3B8T"
      },
      "execution_count": 10,
      "outputs": []
    },
    {
      "cell_type": "code",
      "source": [
        "t1"
      ],
      "metadata": {
        "colab": {
          "base_uri": "https://localhost:8080/"
        },
        "id": "Tu3q3GOm4Aui",
        "outputId": "7b1bd78d-e79c-4b83-9afd-4dd319150fb6"
      },
      "execution_count": 11,
      "outputs": [
        {
          "output_type": "execute_result",
          "data": {
            "text/plain": [
              "tensor(72.2000)"
            ]
          },
          "metadata": {},
          "execution_count": 11
        }
      ]
    },
    {
      "cell_type": "code",
      "source": [
        "t1.shape"
      ],
      "metadata": {
        "colab": {
          "base_uri": "https://localhost:8080/"
        },
        "id": "yMr2fj2e4KZM",
        "outputId": "1ae6b3ee-3235-4f3c-9eed-a0bd5e9f310d"
      },
      "execution_count": 12,
      "outputs": [
        {
          "output_type": "execute_result",
          "data": {
            "text/plain": [
              "torch.Size([])"
            ]
          },
          "metadata": {},
          "execution_count": 12
        }
      ]
    },
    {
      "cell_type": "code",
      "source": [
        "t3.shape"
      ],
      "metadata": {
        "colab": {
          "base_uri": "https://localhost:8080/"
        },
        "id": "C17d3ujF4NOf",
        "outputId": "14714da5-3303-4c20-ed55-7b2ca9eb334f"
      },
      "execution_count": 13,
      "outputs": [
        {
          "output_type": "execute_result",
          "data": {
            "text/plain": [
              "torch.Size([3, 3])"
            ]
          },
          "metadata": {},
          "execution_count": 13
        }
      ]
    },
    {
      "cell_type": "code",
      "source": [
        "t3.size()"
      ],
      "metadata": {
        "colab": {
          "base_uri": "https://localhost:8080/"
        },
        "id": "SU8fx9Se4Qg_",
        "outputId": "7094ff85-2716-4872-dccd-5da053c9a3db"
      },
      "execution_count": 14,
      "outputs": [
        {
          "output_type": "execute_result",
          "data": {
            "text/plain": [
              "torch.Size([3, 3])"
            ]
          },
          "metadata": {},
          "execution_count": 14
        }
      ]
    },
    {
      "cell_type": "code",
      "source": [
        "t2\n",
        "t2.size()\n",
        "t2.shape"
      ],
      "metadata": {
        "colab": {
          "base_uri": "https://localhost:8080/"
        },
        "id": "XnzRA5lL4hpP",
        "outputId": "480663a9-3699-46fb-fb41-e75de89bd589"
      },
      "execution_count": 15,
      "outputs": [
        {
          "output_type": "execute_result",
          "data": {
            "text/plain": [
              "torch.Size([4])"
            ]
          },
          "metadata": {},
          "execution_count": 15
        }
      ]
    },
    {
      "cell_type": "code",
      "source": [
        " t2[1]"
      ],
      "metadata": {
        "colab": {
          "base_uri": "https://localhost:8080/"
        },
        "id": "LMxq7jJN4xAR",
        "outputId": "fed928ec-1825-4e5a-d17f-22c4bf2b9788"
      },
      "execution_count": 16,
      "outputs": [
        {
          "output_type": "execute_result",
          "data": {
            "text/plain": [
              "tensor(535)"
            ]
          },
          "metadata": {},
          "execution_count": 16
        }
      ]
    },
    {
      "cell_type": "code",
      "source": [],
      "metadata": {
        "id": "Q5qO6tU-48Rh"
      },
      "execution_count": 16,
      "outputs": []
    },
    {
      "cell_type": "code",
      "source": [],
      "metadata": {
        "id": "xdAkhNgl5c93"
      },
      "execution_count": 16,
      "outputs": []
    },
    {
      "cell_type": "code",
      "source": [
        "# --Tensor operations and gradiants\n",
        "\n",
        "#-- > we can combine tensors with the useful operations."
      ],
      "metadata": {
        "id": "VTlaEAdN5dBI"
      },
      "execution_count": 17,
      "outputs": []
    },
    {
      "cell_type": "code",
      "source": [
        "x = torch.tensor(23)\n",
        "y = torch.tensor(27.42 ,requires_grad= True)\n",
        "z = torch.tensor(8.1 , requires_grad= True)\n",
        "x,y,z"
      ],
      "metadata": {
        "colab": {
          "base_uri": "https://localhost:8080/"
        },
        "id": "pFphDS2F6m-w",
        "outputId": "fe528146-ee0c-4fb4-e12c-18bf6f868ce8"
      },
      "execution_count": 29,
      "outputs": [
        {
          "output_type": "execute_result",
          "data": {
            "text/plain": [
              "(tensor(23),\n",
              " tensor(27.4200, requires_grad=True),\n",
              " tensor(8.1000, requires_grad=True))"
            ]
          },
          "metadata": {},
          "execution_count": 29
        }
      ]
    },
    {
      "cell_type": "code",
      "source": [
        "t = x * y / z"
      ],
      "metadata": {
        "id": "XuogeL8i6zld"
      },
      "execution_count": 30,
      "outputs": []
    },
    {
      "cell_type": "code",
      "source": [
        "t"
      ],
      "metadata": {
        "colab": {
          "base_uri": "https://localhost:8080/"
        },
        "id": "_d2zLXKq62YJ",
        "outputId": "fcac1e75-1488-4c4c-a202-fa6d57dbe938"
      },
      "execution_count": 31,
      "outputs": [
        {
          "output_type": "execute_result",
          "data": {
            "text/plain": [
              "tensor(77.8593, grad_fn=<DivBackward0>)"
            ]
          },
          "metadata": {},
          "execution_count": 31
        }
      ]
    },
    {
      "cell_type": "code",
      "source": [
        "#  To compute the derivatives , we can invoke the .backward method on our result t."
      ],
      "metadata": {
        "id": "p5ykqhlA7GD5"
      },
      "execution_count": 32,
      "outputs": []
    },
    {
      "cell_type": "code",
      "source": [
        "t.backward()"
      ],
      "metadata": {
        "id": "uGsFfPSn7rqC"
      },
      "execution_count": 33,
      "outputs": []
    },
    {
      "cell_type": "code",
      "source": [
        "print('dy/dx: ' , x.grad)\n",
        "print('dy/dy:' , y.grad)\n",
        "print(\"dy/dx:  \", z.grad)\n"
      ],
      "metadata": {
        "colab": {
          "base_uri": "https://localhost:8080/"
        },
        "id": "9sLugR_g70Rm",
        "outputId": "985fa598-f38b-46e1-d6f6-e759996df932"
      },
      "execution_count": 34,
      "outputs": [
        {
          "output_type": "stream",
          "name": "stdout",
          "text": [
            "dy/dx:  None\n",
            "dy/dy: tensor(2.8395)\n",
            "dy/dx:   tensor(-9.6123)\n"
          ]
        }
      ]
    },
    {
      "cell_type": "code",
      "source": [],
      "metadata": {
        "id": "TbOXqOwcUbft"
      },
      "execution_count": null,
      "outputs": []
    },
    {
      "cell_type": "code",
      "source": [
        "# Create a tensor with a fixed value for every element\n",
        "\n",
        "t6 = torch.full((2,3),19)\n",
        "t6                                  # 2 row and 3 columns with number:19"
      ],
      "metadata": {
        "colab": {
          "base_uri": "https://localhost:8080/"
        },
        "id": "6Bq0pSjJVK1K",
        "outputId": "0ac7c9bd-8e3d-419e-929c-0df3590d8bd0"
      },
      "execution_count": 36,
      "outputs": [
        {
          "output_type": "execute_result",
          "data": {
            "text/plain": [
              "tensor([[19, 19, 19],\n",
              "        [19, 19, 19]])"
            ]
          },
          "metadata": {},
          "execution_count": 36
        }
      ]
    },
    {
      "cell_type": "code",
      "source": [
        "# Concatenate two tensors with compatible shapes\n",
        "\n",
        "t7 = torch.cat((t3,t6))\n",
        "t7"
      ],
      "metadata": {
        "colab": {
          "base_uri": "https://localhost:8080/"
        },
        "id": "e8iioZ72VK8H",
        "outputId": "4839217b-1efa-4239-9512-38691ef8eb3c"
      },
      "execution_count": 37,
      "outputs": [
        {
          "output_type": "execute_result",
          "data": {
            "text/plain": [
              "tensor([[ 1,  2,  3],\n",
              "        [ 4,  5,  6],\n",
              "        [ 8,  9,  5],\n",
              "        [19, 19, 19],\n",
              "        [19, 19, 19]])"
            ]
          },
          "metadata": {},
          "execution_count": 37
        }
      ]
    },
    {
      "cell_type": "code",
      "source": [
        "t3"
      ],
      "metadata": {
        "colab": {
          "base_uri": "https://localhost:8080/"
        },
        "id": "gBwQg1jFVwtH",
        "outputId": "d758891a-3764-421b-f00c-67d8e6fb85eb"
      },
      "execution_count": 38,
      "outputs": [
        {
          "output_type": "execute_result",
          "data": {
            "text/plain": [
              "tensor([[1, 2, 3],\n",
              "        [4, 5, 6],\n",
              "        [8, 9, 5]])"
            ]
          },
          "metadata": {},
          "execution_count": 38
        }
      ]
    },
    {
      "cell_type": "code",
      "source": [
        "t7"
      ],
      "metadata": {
        "colab": {
          "base_uri": "https://localhost:8080/"
        },
        "id": "sUGF4AOJV0hg",
        "outputId": "c4ced4ce-c75d-43b2-e8ca-9282655997cd"
      },
      "execution_count": 39,
      "outputs": [
        {
          "output_type": "execute_result",
          "data": {
            "text/plain": [
              "tensor([[ 1,  2,  3],\n",
              "        [ 4,  5,  6],\n",
              "        [ 8,  9,  5],\n",
              "        [19, 19, 19],\n",
              "        [19, 19, 19]])"
            ]
          },
          "metadata": {},
          "execution_count": 39
        }
      ]
    },
    {
      "cell_type": "code",
      "source": [
        "t6"
      ],
      "metadata": {
        "colab": {
          "base_uri": "https://localhost:8080/"
        },
        "id": "P8uWmWMrWSse",
        "outputId": "e2c1613d-489a-4a4b-f5ef-d06075f538ec"
      },
      "execution_count": 40,
      "outputs": [
        {
          "output_type": "execute_result",
          "data": {
            "text/plain": [
              "tensor([[19, 19, 19],\n",
              "        [19, 19, 19]])"
            ]
          },
          "metadata": {},
          "execution_count": 40
        }
      ]
    },
    {
      "cell_type": "code",
      "source": [
        "#compute the sin of each element\n",
        "\n",
        "t8 = torch.sin(t7)\n",
        "t8"
      ],
      "metadata": {
        "colab": {
          "base_uri": "https://localhost:8080/"
        },
        "id": "hdkgF4PoWVlS",
        "outputId": "10656a15-9848-4ea9-b785-c9d9d87df088"
      },
      "execution_count": 45,
      "outputs": [
        {
          "output_type": "execute_result",
          "data": {
            "text/plain": [
              "tensor([[ 0.8415,  0.9093,  0.1411],\n",
              "        [-0.7568, -0.9589, -0.2794],\n",
              "        [ 0.9894,  0.4121, -0.9589],\n",
              "        [ 0.1499,  0.1499,  0.1499],\n",
              "        [ 0.1499,  0.1499,  0.1499]])"
            ]
          },
          "metadata": {},
          "execution_count": 45
        }
      ]
    },
    {
      "cell_type": "code",
      "source": [
        "t9 = t8.reshape(15,1)\n",
        "t9"
      ],
      "metadata": {
        "colab": {
          "base_uri": "https://localhost:8080/"
        },
        "id": "1U0rYX3mWeZ3",
        "outputId": "82746302-79ca-4753-93ba-eeeeba52f284"
      },
      "execution_count": 50,
      "outputs": [
        {
          "output_type": "execute_result",
          "data": {
            "text/plain": [
              "tensor([[ 0.8415],\n",
              "        [ 0.9093],\n",
              "        [ 0.1411],\n",
              "        [-0.7568],\n",
              "        [-0.9589],\n",
              "        [-0.2794],\n",
              "        [ 0.9894],\n",
              "        [ 0.4121],\n",
              "        [-0.9589],\n",
              "        [ 0.1499],\n",
              "        [ 0.1499],\n",
              "        [ 0.1499],\n",
              "        [ 0.1499],\n",
              "        [ 0.1499],\n",
              "        [ 0.1499]])"
            ]
          },
          "metadata": {},
          "execution_count": 50
        }
      ]
    },
    {
      "cell_type": "code",
      "source": [
        "t9 = t8.reshape(3,5)\n",
        "t9"
      ],
      "metadata": {
        "colab": {
          "base_uri": "https://localhost:8080/"
        },
        "id": "eHMKQffXXFSA",
        "outputId": "8af6ee5d-465e-40bc-960e-1e6a76746e36"
      },
      "execution_count": 53,
      "outputs": [
        {
          "output_type": "execute_result",
          "data": {
            "text/plain": [
              "tensor([[ 0.8415,  0.9093,  0.1411, -0.7568, -0.9589],\n",
              "        [-0.2794,  0.9894,  0.4121, -0.9589,  0.1499],\n",
              "        [ 0.1499,  0.1499,  0.1499,  0.1499,  0.1499]])"
            ]
          },
          "metadata": {},
          "execution_count": 53
        }
      ]
    },
    {
      "cell_type": "code",
      "source": [],
      "metadata": {
        "id": "C4a4c8A6Xhq9"
      },
      "execution_count": null,
      "outputs": []
    },
    {
      "cell_type": "code",
      "source": [
        "import numpy as np\n",
        "\n",
        "x = np.array([[1,2],\n",
        "              [3,4]])\n",
        "x"
      ],
      "metadata": {
        "colab": {
          "base_uri": "https://localhost:8080/"
        },
        "id": "YxwAzqpkYJu_",
        "outputId": "e4aab4fe-f7b2-4398-de03-9758f912f181"
      },
      "execution_count": 54,
      "outputs": [
        {
          "output_type": "execute_result",
          "data": {
            "text/plain": [
              "array([[1, 2],\n",
              "       [3, 4]])"
            ]
          },
          "metadata": {},
          "execution_count": 54
        }
      ]
    },
    {
      "cell_type": "code",
      "source": [
        "# convert the numpy array to a torch tensor\n",
        "\n",
        "y = torch.from_numpy(x)\n",
        "y"
      ],
      "metadata": {
        "colab": {
          "base_uri": "https://localhost:8080/"
        },
        "id": "TLYmqrfpYT_o",
        "outputId": "186280bc-ca4e-4936-cd4f-6b5066866e6f"
      },
      "execution_count": 55,
      "outputs": [
        {
          "output_type": "execute_result",
          "data": {
            "text/plain": [
              "tensor([[1, 2],\n",
              "        [3, 4]])"
            ]
          },
          "metadata": {},
          "execution_count": 55
        }
      ]
    },
    {
      "cell_type": "code",
      "source": [
        "x.dtype,y.dtype"
      ],
      "metadata": {
        "colab": {
          "base_uri": "https://localhost:8080/"
        },
        "id": "1rCk2mFnYfII",
        "outputId": "77fc9df6-16b1-4280-fe2e-4e14dbfd4f05"
      },
      "execution_count": 56,
      "outputs": [
        {
          "output_type": "execute_result",
          "data": {
            "text/plain": [
              "(dtype('int64'), torch.int64)"
            ]
          },
          "metadata": {},
          "execution_count": 56
        }
      ]
    },
    {
      "cell_type": "code",
      "source": [
        "# convert a torch tensor to a numpy array\n",
        "z = y.numpy()\n",
        "z"
      ],
      "metadata": {
        "colab": {
          "base_uri": "https://localhost:8080/"
        },
        "id": "EjWTvVtxYq92",
        "outputId": "4474cc3c-e5c6-440c-9dbb-8cd10c0d56e9"
      },
      "execution_count": 57,
      "outputs": [
        {
          "output_type": "execute_result",
          "data": {
            "text/plain": [
              "array([[1, 2],\n",
              "       [3, 4]])"
            ]
          },
          "metadata": {},
          "execution_count": 57
        }
      ]
    },
    {
      "cell_type": "code",
      "source": [
        "z.dtype"
      ],
      "metadata": {
        "colab": {
          "base_uri": "https://localhost:8080/"
        },
        "id": "LQk7OY1KY21v",
        "outputId": "6c83646d-5136-414f-9a5f-137257608a65"
      },
      "execution_count": 58,
      "outputs": [
        {
          "output_type": "execute_result",
          "data": {
            "text/plain": [
              "dtype('int64')"
            ]
          },
          "metadata": {},
          "execution_count": 58
        }
      ]
    },
    {
      "cell_type": "code",
      "source": [],
      "metadata": {
        "id": "UD7EC-_6Y3vJ"
      },
      "execution_count": null,
      "outputs": []
    }
  ]
}